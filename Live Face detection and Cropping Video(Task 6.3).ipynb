{
 "cells": [
  {
   "cell_type": "code",
   "execution_count": 1,
   "id": "752a50a8",
   "metadata": {},
   "outputs": [],
   "source": [
    "import cv2"
   ]
  },
  {
   "cell_type": "code",
   "execution_count": 2,
   "id": "57c3a17c",
   "metadata": {},
   "outputs": [],
   "source": [
    "cap = cv2.VideoCapture(0)"
   ]
  },
  {
   "cell_type": "code",
   "execution_count": 3,
   "id": "6644aa20",
   "metadata": {},
   "outputs": [],
   "source": [
    "model = cv2.CascadeClassifier('haarcascade_frontalface_default.xml')"
   ]
  },
  {
   "cell_type": "code",
   "execution_count": null,
   "id": "bce1d436",
   "metadata": {},
   "outputs": [
    {
     "name": "stdout",
     "output_type": "stream",
     "text": [
      "no faces\n",
      "no faces\n",
      "no faces\n",
      "no faces\n",
      "no faces\n",
      "no faces\n",
      "no faces\n",
      "no faces\n",
      "no faces\n",
      "no faces\n",
      "no faces\n",
      "no faces\n",
      "no faces\n",
      "no faces\n",
      "no faces\n",
      "no faces\n",
      "no faces\n",
      "no faces\n",
      "no faces\n",
      "no faces\n",
      "no faces\n",
      "no faces\n",
      "no faces\n",
      "no faces\n",
      "no faces\n",
      "no faces\n",
      "no faces\n",
      "no faces\n",
      "no faces\n",
      "no faces\n",
      "no faces\n",
      "no faces\n",
      "no faces\n",
      "no faces\n",
      "no faces\n",
      "no faces\n",
      "no faces\n",
      "no faces\n",
      "no faces\n",
      "no faces\n",
      "no faces\n",
      "no faces\n",
      "no faces\n",
      "no faces\n",
      "no faces\n",
      "no faces\n",
      "no faces\n",
      "no faces\n",
      "no faces\n",
      "no faces\n",
      "no faces\n",
      "no faces\n",
      "no faces\n",
      "no faces\n",
      "no faces\n",
      "no faces\n",
      "no faces\n",
      "no faces\n",
      "no faces\n",
      "no faces\n",
      "no faces\n",
      "no faces\n",
      "no faces\n",
      "no faces\n",
      "no faces\n",
      "no faces\n",
      "no faces\n"
     ]
    }
   ],
   "source": [
    "while True:\n",
    "    ret, photo = cap.read()\n",
    "    fdetect  = model.detectMultiScale(photo)\n",
    "    if len(fdetect) == 0:\n",
    "        print(\"no faces\")\n",
    "    else:\n",
    "        x1 = fdetect[0][0]\n",
    "        y1 = fdetect[0][1]\n",
    "        x2 = fdetect[0][2] + x1\n",
    "        y2 = fdetect[0][3] + y1 \n",
    "        rphoto = cv2.rectangle(photo , (x1,y1), (x2,y2), [0, 255,0] , 2)\n",
    "        cphoto = photo[y1:y2 , x1:x2]\n",
    "        bphoto = cv2.blur(cphoto, (15,15))\n",
    "        cv2.imshow('Original window', photo)\n",
    "        cphoto = photo[y1:y2 , x1:x2]\n",
    "        crphoto = photo[150:400, 100:500]\n",
    "        cv2.imshow('Cropped win..', cphoto)\n",
    "        cv2.imshow('Another Cropped win...', crphoto)\n",
    "        if cv2.waitKey(25) == 13:\n",
    "            break\n",
    "            \n",
    "        \n",
    "cv2.destroyAllWindows()\n",
    "\n",
    "\n"
   ]
  },
  {
   "cell_type": "code",
   "execution_count": null,
   "id": "1be9ade8",
   "metadata": {},
   "outputs": [],
   "source": []
  },
  {
   "cell_type": "code",
   "execution_count": null,
   "id": "1e46c67c",
   "metadata": {},
   "outputs": [],
   "source": []
  },
  {
   "cell_type": "code",
   "execution_count": null,
   "id": "d8e6a0d6",
   "metadata": {},
   "outputs": [],
   "source": [
    "\n",
    "\n"
   ]
  },
  {
   "cell_type": "code",
   "execution_count": null,
   "id": "16f41ff1",
   "metadata": {},
   "outputs": [],
   "source": []
  }
 ],
 "metadata": {
  "kernelspec": {
   "display_name": "Python 3",
   "language": "python",
   "name": "python3"
  },
  "language_info": {
   "codemirror_mode": {
    "name": "ipython",
    "version": 3
   },
   "file_extension": ".py",
   "mimetype": "text/x-python",
   "name": "python",
   "nbconvert_exporter": "python",
   "pygments_lexer": "ipython3",
   "version": "3.8.8"
  }
 },
 "nbformat": 4,
 "nbformat_minor": 5
}
